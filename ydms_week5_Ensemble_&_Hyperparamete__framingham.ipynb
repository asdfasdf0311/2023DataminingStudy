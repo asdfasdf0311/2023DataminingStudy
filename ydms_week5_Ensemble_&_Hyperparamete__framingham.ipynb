{
  "nbformat": 4,
  "nbformat_minor": 0,
  "metadata": {
    "colab": {
      "provenance": [],
      "authorship_tag": "ABX9TyOeFASC8FERLZvuuL8VYxdo",
      "include_colab_link": true
    },
    "kernelspec": {
      "name": "python3",
      "display_name": "Python 3"
    },
    "language_info": {
      "name": "python"
    }
  },
  "cells": [
    {
      "cell_type": "markdown",
      "metadata": {
        "id": "view-in-github",
        "colab_type": "text"
      },
      "source": [
        "<a href=\"https://colab.research.google.com/github/asdfasdf0311/2023DataminingStudy/blob/main/ydms_week5_Ensemble_%26_Hyperparamete__framingham.ipynb\" target=\"_parent\"><img src=\"https://colab.research.google.com/assets/colab-badge.svg\" alt=\"Open In Colab\"/></a>"
      ]
    },
    {
      "cell_type": "markdown",
      "source": [
        "# **YDMS 5주차 Ensemble & Hyperparamete_framingham dataset** - 주하연"
      ],
      "metadata": {
        "id": "aZMPHOOxBhGF"
      }
    },
    {
      "cell_type": "code",
      "execution_count": null,
      "metadata": {
        "colab": {
          "base_uri": "https://localhost:8080/"
        },
        "id": "R_zMzauhA-es",
        "outputId": "c7f03e82-a321-4f6d-c0c1-587975c609fe"
      },
      "outputs": [
        {
          "output_type": "stream",
          "name": "stdout",
          "text": [
            "Mounted at /content/drive\n"
          ]
        }
      ],
      "source": [
        "from google.colab import drive #구글 드라이브에 데이터를 저장해서 데이터를 불러왔다.\n",
        "drive.mount('/content/drive')"
      ]
    },
    {
      "cell_type": "code",
      "source": [
        "import pandas as pd\n",
        "import numpy as np\n",
        "import matplotlib.pyplot as plt\n",
        "import seaborn as sns \n",
        "%matplotlib inline\n",
        "\n",
        "from sklearn.ensemble import VotingClassifier\n",
        "from sklearn.neighbors import KNeighborsClassifier\n",
        "from sklearn.ensemble import RandomForestClassifier\n",
        "from sklearn.ensemble import AdaBoostClassifier\n",
        "from sklearn.tree import DecisionTreeClassifier\n",
        "from sklearn.linear_model import LogisticRegression\n",
        "\n",
        "from sklearn.model_selection import train_test_split\n",
        "\n",
        "from sklearn.metrics import accuracy_score, precision_score, recall_score, f1_score\n",
        "from sklearn.svm import SVC\n",
        "from sklearn.ensemble import VotingClassifier"
      ],
      "metadata": {
        "id": "7_Q2BWnKIvCB"
      },
      "execution_count": null,
      "outputs": []
    },
    {
      "cell_type": "code",
      "source": [
        "dat = pd.read_csv('/content/drive/MyDrive/ydms/dataset/framingham.csv')"
      ],
      "metadata": {
        "id": "44NHBE0rI6FN"
      },
      "execution_count": null,
      "outputs": []
    },
    {
      "cell_type": "markdown",
      "source": [
        "결측치 처리 - 평균값 이용(수치형 자료)\n",
        "\n",
        "결측치 처리 - 결측치 제거(범주형 자료)"
      ],
      "metadata": {
        "id": "ghmqzAbMI9HS"
      }
    },
    {
      "cell_type": "code",
      "source": [
        "#결측치가 있는 값들을 평균으로 대체\n",
        "dat['cigsPerDay'] = dat['cigsPerDay'].fillna(dat['cigsPerDay'].mean())\n",
        "dat['totChol'] = dat['totChol'].fillna(dat['totChol'].mean())\n",
        "dat['BMI'] = dat['BMI'].fillna(dat['BMI'].mean())\n",
        "dat['heartRate'] = dat['heartRate'].fillna(dat['heartRate'].mean())\n",
        "dat['glucose'] = dat['glucose'].fillna(dat['glucose'].mean())"
      ],
      "metadata": {
        "id": "knLARP9FI8bC"
      },
      "execution_count": null,
      "outputs": []
    },
    {
      "cell_type": "code",
      "source": [
        "#범주형 자료는 결측치가 있는 행을을 제거\n",
        "dat = dat.dropna(subset=['education','BPMeds'])\n",
        "dat"
      ],
      "metadata": {
        "colab": {
          "base_uri": "https://localhost:8080/",
          "height": 467
        },
        "id": "dEIblslVJA0-",
        "outputId": "c8810169-ca38-43fe-8d23-6a385a24e69b"
      },
      "execution_count": null,
      "outputs": [
        {
          "output_type": "execute_result",
          "data": {
            "text/plain": [
              "         Sex  age  education currentSmoker  cigsPerDay  BPMeds  \\\n",
              "0       male   39        4.0            No         0.0     0.0   \n",
              "1     female   46        2.0            No         0.0     0.0   \n",
              "2       male   48        1.0           Yes        20.0     0.0   \n",
              "3     female   61        3.0           Yes        30.0     0.0   \n",
              "4     female   46        3.0           Yes        23.0     0.0   \n",
              "...      ...  ...        ...           ...         ...     ...   \n",
              "4234    male   51        3.0           Yes        43.0     0.0   \n",
              "4236  female   44        1.0           Yes        15.0     0.0   \n",
              "4237  female   52        2.0            No         0.0     0.0   \n",
              "4238    male   40        3.0            No         0.0     0.0   \n",
              "4239  female   39        3.0           Yes        30.0     0.0   \n",
              "\n",
              "      prevalentStroke  prevalentHyp diabetes  totChol  sysBP  diaBP    BMI  \\\n",
              "0                   0             0       No    195.0  106.0   70.0  26.97   \n",
              "1                   0             0       No    250.0  121.0   81.0  28.73   \n",
              "2                   0             0       No    245.0  127.5   80.0  25.34   \n",
              "3                   0             1       No    225.0  150.0   95.0  28.58   \n",
              "4                   0             0       No    285.0  130.0   84.0  23.10   \n",
              "...               ...           ...      ...      ...    ...    ...    ...   \n",
              "4234                0             0       No    207.0  126.5   80.0  19.71   \n",
              "4236                0             0       No    210.0  126.5   87.0  19.16   \n",
              "4237                0             0       No    269.0  133.5   83.0  21.47   \n",
              "4238                0             1       No    185.0  141.0   98.0  25.60   \n",
              "4239                0             0       No    196.0  133.0   86.0  20.91   \n",
              "\n",
              "      heartRate     glucose  TenYearCHD  \n",
              "0          80.0   77.000000           0  \n",
              "1          95.0   76.000000           0  \n",
              "2          75.0   70.000000           0  \n",
              "3          65.0  103.000000           1  \n",
              "4          85.0   85.000000           0  \n",
              "...         ...         ...         ...  \n",
              "4234       65.0   68.000000           0  \n",
              "4236       86.0   81.963655           0  \n",
              "4237       80.0  107.000000           0  \n",
              "4238       67.0   72.000000           0  \n",
              "4239       85.0   80.000000           0  \n",
              "\n",
              "[4082 rows x 16 columns]"
            ],
            "text/html": [
              "\n",
              "  <div id=\"df-9adc4aee-0e76-4a70-bb4e-175d6331fb20\">\n",
              "    <div class=\"colab-df-container\">\n",
              "      <div>\n",
              "<style scoped>\n",
              "    .dataframe tbody tr th:only-of-type {\n",
              "        vertical-align: middle;\n",
              "    }\n",
              "\n",
              "    .dataframe tbody tr th {\n",
              "        vertical-align: top;\n",
              "    }\n",
              "\n",
              "    .dataframe thead th {\n",
              "        text-align: right;\n",
              "    }\n",
              "</style>\n",
              "<table border=\"1\" class=\"dataframe\">\n",
              "  <thead>\n",
              "    <tr style=\"text-align: right;\">\n",
              "      <th></th>\n",
              "      <th>Sex</th>\n",
              "      <th>age</th>\n",
              "      <th>education</th>\n",
              "      <th>currentSmoker</th>\n",
              "      <th>cigsPerDay</th>\n",
              "      <th>BPMeds</th>\n",
              "      <th>prevalentStroke</th>\n",
              "      <th>prevalentHyp</th>\n",
              "      <th>diabetes</th>\n",
              "      <th>totChol</th>\n",
              "      <th>sysBP</th>\n",
              "      <th>diaBP</th>\n",
              "      <th>BMI</th>\n",
              "      <th>heartRate</th>\n",
              "      <th>glucose</th>\n",
              "      <th>TenYearCHD</th>\n",
              "    </tr>\n",
              "  </thead>\n",
              "  <tbody>\n",
              "    <tr>\n",
              "      <th>0</th>\n",
              "      <td>male</td>\n",
              "      <td>39</td>\n",
              "      <td>4.0</td>\n",
              "      <td>No</td>\n",
              "      <td>0.0</td>\n",
              "      <td>0.0</td>\n",
              "      <td>0</td>\n",
              "      <td>0</td>\n",
              "      <td>No</td>\n",
              "      <td>195.0</td>\n",
              "      <td>106.0</td>\n",
              "      <td>70.0</td>\n",
              "      <td>26.97</td>\n",
              "      <td>80.0</td>\n",
              "      <td>77.000000</td>\n",
              "      <td>0</td>\n",
              "    </tr>\n",
              "    <tr>\n",
              "      <th>1</th>\n",
              "      <td>female</td>\n",
              "      <td>46</td>\n",
              "      <td>2.0</td>\n",
              "      <td>No</td>\n",
              "      <td>0.0</td>\n",
              "      <td>0.0</td>\n",
              "      <td>0</td>\n",
              "      <td>0</td>\n",
              "      <td>No</td>\n",
              "      <td>250.0</td>\n",
              "      <td>121.0</td>\n",
              "      <td>81.0</td>\n",
              "      <td>28.73</td>\n",
              "      <td>95.0</td>\n",
              "      <td>76.000000</td>\n",
              "      <td>0</td>\n",
              "    </tr>\n",
              "    <tr>\n",
              "      <th>2</th>\n",
              "      <td>male</td>\n",
              "      <td>48</td>\n",
              "      <td>1.0</td>\n",
              "      <td>Yes</td>\n",
              "      <td>20.0</td>\n",
              "      <td>0.0</td>\n",
              "      <td>0</td>\n",
              "      <td>0</td>\n",
              "      <td>No</td>\n",
              "      <td>245.0</td>\n",
              "      <td>127.5</td>\n",
              "      <td>80.0</td>\n",
              "      <td>25.34</td>\n",
              "      <td>75.0</td>\n",
              "      <td>70.000000</td>\n",
              "      <td>0</td>\n",
              "    </tr>\n",
              "    <tr>\n",
              "      <th>3</th>\n",
              "      <td>female</td>\n",
              "      <td>61</td>\n",
              "      <td>3.0</td>\n",
              "      <td>Yes</td>\n",
              "      <td>30.0</td>\n",
              "      <td>0.0</td>\n",
              "      <td>0</td>\n",
              "      <td>1</td>\n",
              "      <td>No</td>\n",
              "      <td>225.0</td>\n",
              "      <td>150.0</td>\n",
              "      <td>95.0</td>\n",
              "      <td>28.58</td>\n",
              "      <td>65.0</td>\n",
              "      <td>103.000000</td>\n",
              "      <td>1</td>\n",
              "    </tr>\n",
              "    <tr>\n",
              "      <th>4</th>\n",
              "      <td>female</td>\n",
              "      <td>46</td>\n",
              "      <td>3.0</td>\n",
              "      <td>Yes</td>\n",
              "      <td>23.0</td>\n",
              "      <td>0.0</td>\n",
              "      <td>0</td>\n",
              "      <td>0</td>\n",
              "      <td>No</td>\n",
              "      <td>285.0</td>\n",
              "      <td>130.0</td>\n",
              "      <td>84.0</td>\n",
              "      <td>23.10</td>\n",
              "      <td>85.0</td>\n",
              "      <td>85.000000</td>\n",
              "      <td>0</td>\n",
              "    </tr>\n",
              "    <tr>\n",
              "      <th>...</th>\n",
              "      <td>...</td>\n",
              "      <td>...</td>\n",
              "      <td>...</td>\n",
              "      <td>...</td>\n",
              "      <td>...</td>\n",
              "      <td>...</td>\n",
              "      <td>...</td>\n",
              "      <td>...</td>\n",
              "      <td>...</td>\n",
              "      <td>...</td>\n",
              "      <td>...</td>\n",
              "      <td>...</td>\n",
              "      <td>...</td>\n",
              "      <td>...</td>\n",
              "      <td>...</td>\n",
              "      <td>...</td>\n",
              "    </tr>\n",
              "    <tr>\n",
              "      <th>4234</th>\n",
              "      <td>male</td>\n",
              "      <td>51</td>\n",
              "      <td>3.0</td>\n",
              "      <td>Yes</td>\n",
              "      <td>43.0</td>\n",
              "      <td>0.0</td>\n",
              "      <td>0</td>\n",
              "      <td>0</td>\n",
              "      <td>No</td>\n",
              "      <td>207.0</td>\n",
              "      <td>126.5</td>\n",
              "      <td>80.0</td>\n",
              "      <td>19.71</td>\n",
              "      <td>65.0</td>\n",
              "      <td>68.000000</td>\n",
              "      <td>0</td>\n",
              "    </tr>\n",
              "    <tr>\n",
              "      <th>4236</th>\n",
              "      <td>female</td>\n",
              "      <td>44</td>\n",
              "      <td>1.0</td>\n",
              "      <td>Yes</td>\n",
              "      <td>15.0</td>\n",
              "      <td>0.0</td>\n",
              "      <td>0</td>\n",
              "      <td>0</td>\n",
              "      <td>No</td>\n",
              "      <td>210.0</td>\n",
              "      <td>126.5</td>\n",
              "      <td>87.0</td>\n",
              "      <td>19.16</td>\n",
              "      <td>86.0</td>\n",
              "      <td>81.963655</td>\n",
              "      <td>0</td>\n",
              "    </tr>\n",
              "    <tr>\n",
              "      <th>4237</th>\n",
              "      <td>female</td>\n",
              "      <td>52</td>\n",
              "      <td>2.0</td>\n",
              "      <td>No</td>\n",
              "      <td>0.0</td>\n",
              "      <td>0.0</td>\n",
              "      <td>0</td>\n",
              "      <td>0</td>\n",
              "      <td>No</td>\n",
              "      <td>269.0</td>\n",
              "      <td>133.5</td>\n",
              "      <td>83.0</td>\n",
              "      <td>21.47</td>\n",
              "      <td>80.0</td>\n",
              "      <td>107.000000</td>\n",
              "      <td>0</td>\n",
              "    </tr>\n",
              "    <tr>\n",
              "      <th>4238</th>\n",
              "      <td>male</td>\n",
              "      <td>40</td>\n",
              "      <td>3.0</td>\n",
              "      <td>No</td>\n",
              "      <td>0.0</td>\n",
              "      <td>0.0</td>\n",
              "      <td>0</td>\n",
              "      <td>1</td>\n",
              "      <td>No</td>\n",
              "      <td>185.0</td>\n",
              "      <td>141.0</td>\n",
              "      <td>98.0</td>\n",
              "      <td>25.60</td>\n",
              "      <td>67.0</td>\n",
              "      <td>72.000000</td>\n",
              "      <td>0</td>\n",
              "    </tr>\n",
              "    <tr>\n",
              "      <th>4239</th>\n",
              "      <td>female</td>\n",
              "      <td>39</td>\n",
              "      <td>3.0</td>\n",
              "      <td>Yes</td>\n",
              "      <td>30.0</td>\n",
              "      <td>0.0</td>\n",
              "      <td>0</td>\n",
              "      <td>0</td>\n",
              "      <td>No</td>\n",
              "      <td>196.0</td>\n",
              "      <td>133.0</td>\n",
              "      <td>86.0</td>\n",
              "      <td>20.91</td>\n",
              "      <td>85.0</td>\n",
              "      <td>80.000000</td>\n",
              "      <td>0</td>\n",
              "    </tr>\n",
              "  </tbody>\n",
              "</table>\n",
              "<p>4082 rows × 16 columns</p>\n",
              "</div>\n",
              "      <button class=\"colab-df-convert\" onclick=\"convertToInteractive('df-9adc4aee-0e76-4a70-bb4e-175d6331fb20')\"\n",
              "              title=\"Convert this dataframe to an interactive table.\"\n",
              "              style=\"display:none;\">\n",
              "        \n",
              "  <svg xmlns=\"http://www.w3.org/2000/svg\" height=\"24px\"viewBox=\"0 0 24 24\"\n",
              "       width=\"24px\">\n",
              "    <path d=\"M0 0h24v24H0V0z\" fill=\"none\"/>\n",
              "    <path d=\"M18.56 5.44l.94 2.06.94-2.06 2.06-.94-2.06-.94-.94-2.06-.94 2.06-2.06.94zm-11 1L8.5 8.5l.94-2.06 2.06-.94-2.06-.94L8.5 2.5l-.94 2.06-2.06.94zm10 10l.94 2.06.94-2.06 2.06-.94-2.06-.94-.94-2.06-.94 2.06-2.06.94z\"/><path d=\"M17.41 7.96l-1.37-1.37c-.4-.4-.92-.59-1.43-.59-.52 0-1.04.2-1.43.59L10.3 9.45l-7.72 7.72c-.78.78-.78 2.05 0 2.83L4 21.41c.39.39.9.59 1.41.59.51 0 1.02-.2 1.41-.59l7.78-7.78 2.81-2.81c.8-.78.8-2.07 0-2.86zM5.41 20L4 18.59l7.72-7.72 1.47 1.35L5.41 20z\"/>\n",
              "  </svg>\n",
              "      </button>\n",
              "      \n",
              "  <style>\n",
              "    .colab-df-container {\n",
              "      display:flex;\n",
              "      flex-wrap:wrap;\n",
              "      gap: 12px;\n",
              "    }\n",
              "\n",
              "    .colab-df-convert {\n",
              "      background-color: #E8F0FE;\n",
              "      border: none;\n",
              "      border-radius: 50%;\n",
              "      cursor: pointer;\n",
              "      display: none;\n",
              "      fill: #1967D2;\n",
              "      height: 32px;\n",
              "      padding: 0 0 0 0;\n",
              "      width: 32px;\n",
              "    }\n",
              "\n",
              "    .colab-df-convert:hover {\n",
              "      background-color: #E2EBFA;\n",
              "      box-shadow: 0px 1px 2px rgba(60, 64, 67, 0.3), 0px 1px 3px 1px rgba(60, 64, 67, 0.15);\n",
              "      fill: #174EA6;\n",
              "    }\n",
              "\n",
              "    [theme=dark] .colab-df-convert {\n",
              "      background-color: #3B4455;\n",
              "      fill: #D2E3FC;\n",
              "    }\n",
              "\n",
              "    [theme=dark] .colab-df-convert:hover {\n",
              "      background-color: #434B5C;\n",
              "      box-shadow: 0px 1px 3px 1px rgba(0, 0, 0, 0.15);\n",
              "      filter: drop-shadow(0px 1px 2px rgba(0, 0, 0, 0.3));\n",
              "      fill: #FFFFFF;\n",
              "    }\n",
              "  </style>\n",
              "\n",
              "      <script>\n",
              "        const buttonEl =\n",
              "          document.querySelector('#df-9adc4aee-0e76-4a70-bb4e-175d6331fb20 button.colab-df-convert');\n",
              "        buttonEl.style.display =\n",
              "          google.colab.kernel.accessAllowed ? 'block' : 'none';\n",
              "\n",
              "        async function convertToInteractive(key) {\n",
              "          const element = document.querySelector('#df-9adc4aee-0e76-4a70-bb4e-175d6331fb20');\n",
              "          const dataTable =\n",
              "            await google.colab.kernel.invokeFunction('convertToInteractive',\n",
              "                                                     [key], {});\n",
              "          if (!dataTable) return;\n",
              "\n",
              "          const docLinkHtml = 'Like what you see? Visit the ' +\n",
              "            '<a target=\"_blank\" href=https://colab.research.google.com/notebooks/data_table.ipynb>data table notebook</a>'\n",
              "            + ' to learn more about interactive tables.';\n",
              "          element.innerHTML = '';\n",
              "          dataTable['output_type'] = 'display_data';\n",
              "          await google.colab.output.renderOutput(dataTable, element);\n",
              "          const docLink = document.createElement('div');\n",
              "          docLink.innerHTML = docLinkHtml;\n",
              "          element.appendChild(docLink);\n",
              "        }\n",
              "      </script>\n",
              "    </div>\n",
              "  </div>\n",
              "  "
            ]
          },
          "metadata": {},
          "execution_count": 6
        }
      ]
    },
    {
      "cell_type": "code",
      "source": [
        "null_data=dat.isnull().sum().to_frame('null_count') #모든 결측치가 정제되었음을 볼 수 있다.\n",
        "null_data"
      ],
      "metadata": {
        "colab": {
          "base_uri": "https://localhost:8080/",
          "height": 551
        },
        "id": "WyvihciDJDNa",
        "outputId": "e38b6461-5f37-44df-b85e-dd65e99379e2"
      },
      "execution_count": null,
      "outputs": [
        {
          "output_type": "execute_result",
          "data": {
            "text/plain": [
              "                 null_count\n",
              "Sex                       0\n",
              "age                       0\n",
              "education                 0\n",
              "currentSmoker             0\n",
              "cigsPerDay                0\n",
              "BPMeds                    0\n",
              "prevalentStroke           0\n",
              "prevalentHyp              0\n",
              "diabetes                  0\n",
              "totChol                   0\n",
              "sysBP                     0\n",
              "diaBP                     0\n",
              "BMI                       0\n",
              "heartRate                 0\n",
              "glucose                   0\n",
              "TenYearCHD                0"
            ],
            "text/html": [
              "\n",
              "  <div id=\"df-3dd52e88-beaf-4439-a8cf-b581b478c1cc\">\n",
              "    <div class=\"colab-df-container\">\n",
              "      <div>\n",
              "<style scoped>\n",
              "    .dataframe tbody tr th:only-of-type {\n",
              "        vertical-align: middle;\n",
              "    }\n",
              "\n",
              "    .dataframe tbody tr th {\n",
              "        vertical-align: top;\n",
              "    }\n",
              "\n",
              "    .dataframe thead th {\n",
              "        text-align: right;\n",
              "    }\n",
              "</style>\n",
              "<table border=\"1\" class=\"dataframe\">\n",
              "  <thead>\n",
              "    <tr style=\"text-align: right;\">\n",
              "      <th></th>\n",
              "      <th>null_count</th>\n",
              "    </tr>\n",
              "  </thead>\n",
              "  <tbody>\n",
              "    <tr>\n",
              "      <th>Sex</th>\n",
              "      <td>0</td>\n",
              "    </tr>\n",
              "    <tr>\n",
              "      <th>age</th>\n",
              "      <td>0</td>\n",
              "    </tr>\n",
              "    <tr>\n",
              "      <th>education</th>\n",
              "      <td>0</td>\n",
              "    </tr>\n",
              "    <tr>\n",
              "      <th>currentSmoker</th>\n",
              "      <td>0</td>\n",
              "    </tr>\n",
              "    <tr>\n",
              "      <th>cigsPerDay</th>\n",
              "      <td>0</td>\n",
              "    </tr>\n",
              "    <tr>\n",
              "      <th>BPMeds</th>\n",
              "      <td>0</td>\n",
              "    </tr>\n",
              "    <tr>\n",
              "      <th>prevalentStroke</th>\n",
              "      <td>0</td>\n",
              "    </tr>\n",
              "    <tr>\n",
              "      <th>prevalentHyp</th>\n",
              "      <td>0</td>\n",
              "    </tr>\n",
              "    <tr>\n",
              "      <th>diabetes</th>\n",
              "      <td>0</td>\n",
              "    </tr>\n",
              "    <tr>\n",
              "      <th>totChol</th>\n",
              "      <td>0</td>\n",
              "    </tr>\n",
              "    <tr>\n",
              "      <th>sysBP</th>\n",
              "      <td>0</td>\n",
              "    </tr>\n",
              "    <tr>\n",
              "      <th>diaBP</th>\n",
              "      <td>0</td>\n",
              "    </tr>\n",
              "    <tr>\n",
              "      <th>BMI</th>\n",
              "      <td>0</td>\n",
              "    </tr>\n",
              "    <tr>\n",
              "      <th>heartRate</th>\n",
              "      <td>0</td>\n",
              "    </tr>\n",
              "    <tr>\n",
              "      <th>glucose</th>\n",
              "      <td>0</td>\n",
              "    </tr>\n",
              "    <tr>\n",
              "      <th>TenYearCHD</th>\n",
              "      <td>0</td>\n",
              "    </tr>\n",
              "  </tbody>\n",
              "</table>\n",
              "</div>\n",
              "      <button class=\"colab-df-convert\" onclick=\"convertToInteractive('df-3dd52e88-beaf-4439-a8cf-b581b478c1cc')\"\n",
              "              title=\"Convert this dataframe to an interactive table.\"\n",
              "              style=\"display:none;\">\n",
              "        \n",
              "  <svg xmlns=\"http://www.w3.org/2000/svg\" height=\"24px\"viewBox=\"0 0 24 24\"\n",
              "       width=\"24px\">\n",
              "    <path d=\"M0 0h24v24H0V0z\" fill=\"none\"/>\n",
              "    <path d=\"M18.56 5.44l.94 2.06.94-2.06 2.06-.94-2.06-.94-.94-2.06-.94 2.06-2.06.94zm-11 1L8.5 8.5l.94-2.06 2.06-.94-2.06-.94L8.5 2.5l-.94 2.06-2.06.94zm10 10l.94 2.06.94-2.06 2.06-.94-2.06-.94-.94-2.06-.94 2.06-2.06.94z\"/><path d=\"M17.41 7.96l-1.37-1.37c-.4-.4-.92-.59-1.43-.59-.52 0-1.04.2-1.43.59L10.3 9.45l-7.72 7.72c-.78.78-.78 2.05 0 2.83L4 21.41c.39.39.9.59 1.41.59.51 0 1.02-.2 1.41-.59l7.78-7.78 2.81-2.81c.8-.78.8-2.07 0-2.86zM5.41 20L4 18.59l7.72-7.72 1.47 1.35L5.41 20z\"/>\n",
              "  </svg>\n",
              "      </button>\n",
              "      \n",
              "  <style>\n",
              "    .colab-df-container {\n",
              "      display:flex;\n",
              "      flex-wrap:wrap;\n",
              "      gap: 12px;\n",
              "    }\n",
              "\n",
              "    .colab-df-convert {\n",
              "      background-color: #E8F0FE;\n",
              "      border: none;\n",
              "      border-radius: 50%;\n",
              "      cursor: pointer;\n",
              "      display: none;\n",
              "      fill: #1967D2;\n",
              "      height: 32px;\n",
              "      padding: 0 0 0 0;\n",
              "      width: 32px;\n",
              "    }\n",
              "\n",
              "    .colab-df-convert:hover {\n",
              "      background-color: #E2EBFA;\n",
              "      box-shadow: 0px 1px 2px rgba(60, 64, 67, 0.3), 0px 1px 3px 1px rgba(60, 64, 67, 0.15);\n",
              "      fill: #174EA6;\n",
              "    }\n",
              "\n",
              "    [theme=dark] .colab-df-convert {\n",
              "      background-color: #3B4455;\n",
              "      fill: #D2E3FC;\n",
              "    }\n",
              "\n",
              "    [theme=dark] .colab-df-convert:hover {\n",
              "      background-color: #434B5C;\n",
              "      box-shadow: 0px 1px 3px 1px rgba(0, 0, 0, 0.15);\n",
              "      filter: drop-shadow(0px 1px 2px rgba(0, 0, 0, 0.3));\n",
              "      fill: #FFFFFF;\n",
              "    }\n",
              "  </style>\n",
              "\n",
              "      <script>\n",
              "        const buttonEl =\n",
              "          document.querySelector('#df-3dd52e88-beaf-4439-a8cf-b581b478c1cc button.colab-df-convert');\n",
              "        buttonEl.style.display =\n",
              "          google.colab.kernel.accessAllowed ? 'block' : 'none';\n",
              "\n",
              "        async function convertToInteractive(key) {\n",
              "          const element = document.querySelector('#df-3dd52e88-beaf-4439-a8cf-b581b478c1cc');\n",
              "          const dataTable =\n",
              "            await google.colab.kernel.invokeFunction('convertToInteractive',\n",
              "                                                     [key], {});\n",
              "          if (!dataTable) return;\n",
              "\n",
              "          const docLinkHtml = 'Like what you see? Visit the ' +\n",
              "            '<a target=\"_blank\" href=https://colab.research.google.com/notebooks/data_table.ipynb>data table notebook</a>'\n",
              "            + ' to learn more about interactive tables.';\n",
              "          element.innerHTML = '';\n",
              "          dataTable['output_type'] = 'display_data';\n",
              "          await google.colab.output.renderOutput(dataTable, element);\n",
              "          const docLink = document.createElement('div');\n",
              "          docLink.innerHTML = docLinkHtml;\n",
              "          element.appendChild(docLink);\n",
              "        }\n",
              "      </script>\n",
              "    </div>\n",
              "  </div>\n",
              "  "
            ]
          },
          "metadata": {},
          "execution_count": 7
        }
      ]
    },
    {
      "cell_type": "code",
      "source": [
        "dat['Sex'] = dat['Sex'].map({'female':1,'male':0})\n",
        "dat['currentSmoker'] = dat['currentSmoker'].map({'Yes':1,'No':0})\n",
        "dat['diabetes'] = dat['diabetes'].map({'Yes':1,'No':0})"
      ],
      "metadata": {
        "id": "HAEjz32_J0hP"
      },
      "execution_count": null,
      "outputs": []
    },
    {
      "cell_type": "code",
      "source": [
        "X = dat.drop('TenYearCHD', axis=1) #target을 제외한 나머지 독립변수들\n",
        "y = dat.loc[:,['TenYearCHD']] #target"
      ],
      "metadata": {
        "id": "MLyEK8GxJTDk"
      },
      "execution_count": null,
      "outputs": []
    },
    {
      "cell_type": "code",
      "source": [
        "y = y.astype(int)"
      ],
      "metadata": {
        "id": "W1_uTzv9JqlG"
      },
      "execution_count": null,
      "outputs": []
    },
    {
      "cell_type": "code",
      "source": [
        "X_training , X_testing , y_training , y_testing = train_test_split(X , y , test_size=0.2 , random_state=0)"
      ],
      "metadata": {
        "id": "M_H2iEWRK5TB"
      },
      "execution_count": null,
      "outputs": []
    },
    {
      "cell_type": "code",
      "source": [
        "knn_clf  = KNeighborsClassifier(n_neighbors=4) #K최근접이웃\n",
        "rf_clf = RandomForestClassifier(n_estimators=100, random_state=0)#배깅-랜덤포레스트\n",
        "dt_clf = DecisionTreeClassifier() #결정트리\n",
        "ada_clf = AdaBoostClassifier(n_estimators=100) #부스팅-아다부스트\n",
        "lrc= LogisticRegression()#로지스틱회귀"
      ],
      "metadata": {
        "id": "1MqvlU1XK6BQ"
      },
      "execution_count": null,
      "outputs": []
    },
    {
      "cell_type": "code",
      "source": [
        "knn_clf.fit(X_training, y_training)  \n",
        "rf_clf.fit(X_training , y_training)  \n",
        "dt_clf.fit(X_training , y_training)\n",
        "ada_clf.fit(X_training, y_training)\n",
        "lrc.fit(X_training, y_training)"
      ],
      "metadata": {
        "colab": {
          "base_uri": "https://localhost:8080/",
          "height": 397
        },
        "id": "xz9x_Sq9LDL9",
        "outputId": "7d12ca1c-025f-4a9b-9d4e-994d534214a0"
      },
      "execution_count": null,
      "outputs": [
        {
          "output_type": "stream",
          "name": "stderr",
          "text": [
            "/usr/local/lib/python3.10/dist-packages/sklearn/neighbors/_classification.py:215: DataConversionWarning: A column-vector y was passed when a 1d array was expected. Please change the shape of y to (n_samples,), for example using ravel().\n",
            "  return self._fit(X, y)\n",
            "<ipython-input-22-8216a6d06fd9>:2: DataConversionWarning: A column-vector y was passed when a 1d array was expected. Please change the shape of y to (n_samples,), for example using ravel().\n",
            "  rf_clf.fit(X_training , y_training)\n",
            "/usr/local/lib/python3.10/dist-packages/sklearn/utils/validation.py:1143: DataConversionWarning: A column-vector y was passed when a 1d array was expected. Please change the shape of y to (n_samples, ), for example using ravel().\n",
            "  y = column_or_1d(y, warn=True)\n",
            "/usr/local/lib/python3.10/dist-packages/sklearn/utils/validation.py:1143: DataConversionWarning: A column-vector y was passed when a 1d array was expected. Please change the shape of y to (n_samples, ), for example using ravel().\n",
            "  y = column_or_1d(y, warn=True)\n",
            "/usr/local/lib/python3.10/dist-packages/sklearn/linear_model/_logistic.py:458: ConvergenceWarning: lbfgs failed to converge (status=1):\n",
            "STOP: TOTAL NO. of ITERATIONS REACHED LIMIT.\n",
            "\n",
            "Increase the number of iterations (max_iter) or scale the data as shown in:\n",
            "    https://scikit-learn.org/stable/modules/preprocessing.html\n",
            "Please also refer to the documentation for alternative solver options:\n",
            "    https://scikit-learn.org/stable/modules/linear_model.html#logistic-regression\n",
            "  n_iter_i = _check_optimize_result(\n"
          ]
        },
        {
          "output_type": "execute_result",
          "data": {
            "text/plain": [
              "LogisticRegression()"
            ],
            "text/html": [
              "<style>#sk-container-id-1 {color: black;background-color: white;}#sk-container-id-1 pre{padding: 0;}#sk-container-id-1 div.sk-toggleable {background-color: white;}#sk-container-id-1 label.sk-toggleable__label {cursor: pointer;display: block;width: 100%;margin-bottom: 0;padding: 0.3em;box-sizing: border-box;text-align: center;}#sk-container-id-1 label.sk-toggleable__label-arrow:before {content: \"▸\";float: left;margin-right: 0.25em;color: #696969;}#sk-container-id-1 label.sk-toggleable__label-arrow:hover:before {color: black;}#sk-container-id-1 div.sk-estimator:hover label.sk-toggleable__label-arrow:before {color: black;}#sk-container-id-1 div.sk-toggleable__content {max-height: 0;max-width: 0;overflow: hidden;text-align: left;background-color: #f0f8ff;}#sk-container-id-1 div.sk-toggleable__content pre {margin: 0.2em;color: black;border-radius: 0.25em;background-color: #f0f8ff;}#sk-container-id-1 input.sk-toggleable__control:checked~div.sk-toggleable__content {max-height: 200px;max-width: 100%;overflow: auto;}#sk-container-id-1 input.sk-toggleable__control:checked~label.sk-toggleable__label-arrow:before {content: \"▾\";}#sk-container-id-1 div.sk-estimator input.sk-toggleable__control:checked~label.sk-toggleable__label {background-color: #d4ebff;}#sk-container-id-1 div.sk-label input.sk-toggleable__control:checked~label.sk-toggleable__label {background-color: #d4ebff;}#sk-container-id-1 input.sk-hidden--visually {border: 0;clip: rect(1px 1px 1px 1px);clip: rect(1px, 1px, 1px, 1px);height: 1px;margin: -1px;overflow: hidden;padding: 0;position: absolute;width: 1px;}#sk-container-id-1 div.sk-estimator {font-family: monospace;background-color: #f0f8ff;border: 1px dotted black;border-radius: 0.25em;box-sizing: border-box;margin-bottom: 0.5em;}#sk-container-id-1 div.sk-estimator:hover {background-color: #d4ebff;}#sk-container-id-1 div.sk-parallel-item::after {content: \"\";width: 100%;border-bottom: 1px solid gray;flex-grow: 1;}#sk-container-id-1 div.sk-label:hover label.sk-toggleable__label {background-color: #d4ebff;}#sk-container-id-1 div.sk-serial::before {content: \"\";position: absolute;border-left: 1px solid gray;box-sizing: border-box;top: 0;bottom: 0;left: 50%;z-index: 0;}#sk-container-id-1 div.sk-serial {display: flex;flex-direction: column;align-items: center;background-color: white;padding-right: 0.2em;padding-left: 0.2em;position: relative;}#sk-container-id-1 div.sk-item {position: relative;z-index: 1;}#sk-container-id-1 div.sk-parallel {display: flex;align-items: stretch;justify-content: center;background-color: white;position: relative;}#sk-container-id-1 div.sk-item::before, #sk-container-id-1 div.sk-parallel-item::before {content: \"\";position: absolute;border-left: 1px solid gray;box-sizing: border-box;top: 0;bottom: 0;left: 50%;z-index: -1;}#sk-container-id-1 div.sk-parallel-item {display: flex;flex-direction: column;z-index: 1;position: relative;background-color: white;}#sk-container-id-1 div.sk-parallel-item:first-child::after {align-self: flex-end;width: 50%;}#sk-container-id-1 div.sk-parallel-item:last-child::after {align-self: flex-start;width: 50%;}#sk-container-id-1 div.sk-parallel-item:only-child::after {width: 0;}#sk-container-id-1 div.sk-dashed-wrapped {border: 1px dashed gray;margin: 0 0.4em 0.5em 0.4em;box-sizing: border-box;padding-bottom: 0.4em;background-color: white;}#sk-container-id-1 div.sk-label label {font-family: monospace;font-weight: bold;display: inline-block;line-height: 1.2em;}#sk-container-id-1 div.sk-label-container {text-align: center;}#sk-container-id-1 div.sk-container {/* jupyter's `normalize.less` sets `[hidden] { display: none; }` but bootstrap.min.css set `[hidden] { display: none !important; }` so we also need the `!important` here to be able to override the default hidden behavior on the sphinx rendered scikit-learn.org. See: https://github.com/scikit-learn/scikit-learn/issues/21755 */display: inline-block !important;position: relative;}#sk-container-id-1 div.sk-text-repr-fallback {display: none;}</style><div id=\"sk-container-id-1\" class=\"sk-top-container\"><div class=\"sk-text-repr-fallback\"><pre>LogisticRegression()</pre><b>In a Jupyter environment, please rerun this cell to show the HTML representation or trust the notebook. <br />On GitHub, the HTML representation is unable to render, please try loading this page with nbviewer.org.</b></div><div class=\"sk-container\" hidden><div class=\"sk-item\"><div class=\"sk-estimator sk-toggleable\"><input class=\"sk-toggleable__control sk-hidden--visually\" id=\"sk-estimator-id-1\" type=\"checkbox\" checked><label for=\"sk-estimator-id-1\" class=\"sk-toggleable__label sk-toggleable__label-arrow\">LogisticRegression</label><div class=\"sk-toggleable__content\"><pre>LogisticRegression()</pre></div></div></div></div></div>"
            ]
          },
          "metadata": {},
          "execution_count": 22
        }
      ]
    },
    {
      "cell_type": "code",
      "source": [
        "# 학습된 개별 모델들이 각자 반환하는 예측 데이터 셋을 생성하고 개별 모델의 정확도 측정.\n",
        "knn_pred = knn_clf.predict(X_testing)\n",
        "rf_pred = rf_clf.predict(X_testing)\n",
        "dt_pred = dt_clf.predict(X_testing)\n",
        "ada_pred = ada_clf.predict(X_testing)\n",
        "lrc_pred = lrc.predict(X_testing)"
      ],
      "metadata": {
        "id": "q0p_J5KzLHpY"
      },
      "execution_count": null,
      "outputs": []
    },
    {
      "cell_type": "markdown",
      "source": [
        "성능평가"
      ],
      "metadata": {
        "id": "jGJr2hpaLI4J"
      }
    },
    {
      "cell_type": "code",
      "source": [
        "def eval_model(test_gths,test_preds):#accuracy, precision, recall, f1_score를 한번에 호출해주는 함수 제작\n",
        "  accuracy = accuracy_score(test_preds, test_gths)\n",
        "  precision = precision_score(test_gths, test_preds,average='macro')\n",
        "  recall = recall_score(test_gths, test_preds,average='macro')\n",
        "  f1 = f1_score(test_gths, test_preds,average='macro')\n",
        "\n",
        "  print(\"accuracy : {}, \\nprescision : {}\\nrecall : {}, \\nf1-score : {}\".format(accuracy,precision,recall,f1))"
      ],
      "metadata": {
        "id": "qm0BuCZPLJwH"
      },
      "execution_count": null,
      "outputs": []
    },
    {
      "cell_type": "code",
      "source": [
        "print(\"K최근접이웃\")\n",
        "eval_model(y_testing, knn_pred)\n",
        "print(\"-----------------------------------------\")\n",
        "print(\"배깅-랜덤포레스트\")\n",
        "eval_model(y_testing, rf_pred)\n",
        "print(\"-----------------------------------------\")\n",
        "print(\"결정트리\")\n",
        "eval_model(y_testing, dt_pred)\n",
        "print(\"-----------------------------------------\")\n",
        "print(\"부스팅-아다부스트\")\n",
        "eval_model(y_testing, ada_pred)\n",
        "print(\"-----------------------------------------\")\n",
        "print(\"로지스틱회귀\")\n",
        "eval_model(y_testing, lrc_pred)\n",
        "print(\"-----------------------------------------\")"
      ],
      "metadata": {
        "colab": {
          "base_uri": "https://localhost:8080/"
        },
        "id": "-LrD0BuELMna",
        "outputId": "9605d8da-2be0-4f90-c227-26230a53a89e"
      },
      "execution_count": null,
      "outputs": [
        {
          "output_type": "stream",
          "name": "stdout",
          "text": [
            "K최근접이웃\n",
            "accuracy : 0.8323133414932681, \n",
            "prescision : 0.6908414166478682\n",
            "recall : 0.5180572453095985, \n",
            "f1-score : 0.4941405102478928\n",
            "-----------------------------------------\n",
            "배깅-랜덤포레스트\n",
            "accuracy : 0.8384332925336597, \n",
            "prescision : 0.819454770755886\n",
            "recall : 0.5275127531963032, \n",
            "f1-score : 0.509639518387836\n",
            "-----------------------------------------\n",
            "결정트리\n",
            "accuracy : 0.7466340269277846, \n",
            "prescision : 0.5629387665811507\n",
            "recall : 0.5675492518836311, \n",
            "f1-score : 0.5649168392482732\n",
            "-----------------------------------------\n",
            "부스팅-아다부스트\n",
            "accuracy : 0.8445532435740514, \n",
            "prescision : 0.793368743839667\n",
            "recall : 0.5571759407483299, \n",
            "f1-score : 0.562480761365026\n",
            "-----------------------------------------\n",
            "로지스틱회귀\n",
            "accuracy : 0.8335373317013464, \n",
            "prescision : 0.7919741697416974\n",
            "recall : 0.5101331881923545, \n",
            "f1-score : 0.4755503530566779\n",
            "-----------------------------------------\n"
          ]
        }
      ]
    },
    {
      "cell_type": "markdown",
      "source": [
        "앞에서 진행했던 bostonhousing dataset 보다 훨씬 좋은 성능지표 수치를 보여주고 있다. "
      ],
      "metadata": {
        "id": "f8r0zBj5LRWf"
      }
    },
    {
      "cell_type": "markdown",
      "source": [
        "하드보팅"
      ],
      "metadata": {
        "id": "2mPDtFgWLPrr"
      }
    },
    {
      "cell_type": "code",
      "source": [
        "svm = SVC(C=0.1,gamma=0.003, probability=True, random_state=35)\n",
        "svm.fit(X_training , y_training)\n",
        "svm_pred = svm.predict(X_testing)"
      ],
      "metadata": {
        "colab": {
          "base_uri": "https://localhost:8080/"
        },
        "id": "J87C0wsQLPYB",
        "outputId": "6aab16a4-e844-47ac-81a1-2cedadcd4f06"
      },
      "execution_count": null,
      "outputs": [
        {
          "output_type": "stream",
          "name": "stderr",
          "text": [
            "/usr/local/lib/python3.10/dist-packages/sklearn/utils/validation.py:1143: DataConversionWarning: A column-vector y was passed when a 1d array was expected. Please change the shape of y to (n_samples, ), for example using ravel().\n",
            "  y = column_or_1d(y, warn=True)\n"
          ]
        }
      ]
    },
    {
      "cell_type": "code",
      "source": [
        "voting_clf = VotingClassifier(estimators=[('decision_tree',dt_clf),('knn',knn_clf),('svm',svm)],voting='hard')\n",
        "\n",
        "voting_clf.fit(X_training , y_training)  \n",
        "\n",
        "hardvoting_pred = voting_clf.predict(X_testing)"
      ],
      "metadata": {
        "colab": {
          "base_uri": "https://localhost:8080/"
        },
        "id": "E3zJW7iSLa8J",
        "outputId": "e70b7e05-9aa7-4d96-878e-161684be48b3"
      },
      "execution_count": null,
      "outputs": [
        {
          "output_type": "stream",
          "name": "stderr",
          "text": [
            "/usr/local/lib/python3.10/dist-packages/sklearn/preprocessing/_label.py:99: DataConversionWarning: A column-vector y was passed when a 1d array was expected. Please change the shape of y to (n_samples, ), for example using ravel().\n",
            "  y = column_or_1d(y, warn=True)\n",
            "/usr/local/lib/python3.10/dist-packages/sklearn/preprocessing/_label.py:134: DataConversionWarning: A column-vector y was passed when a 1d array was expected. Please change the shape of y to (n_samples, ), for example using ravel().\n",
            "  y = column_or_1d(y, dtype=self.classes_.dtype, warn=True)\n"
          ]
        }
      ]
    },
    {
      "cell_type": "code",
      "source": [
        "print(\"하드보팅\")\n",
        "eval_model(y_testing, hardvoting_pred)"
      ],
      "metadata": {
        "colab": {
          "base_uri": "https://localhost:8080/"
        },
        "id": "Ji2Q_G3bLcuv",
        "outputId": "14ef8e9e-00bf-4938-d39c-7e155906d426"
      },
      "execution_count": null,
      "outputs": [
        {
          "output_type": "stream",
          "name": "stdout",
          "text": [
            "하드보팅\n",
            "accuracy : 0.8335373317013464, \n",
            "prescision : 0.7507192766132347\n",
            "recall : 0.5130199995731147, \n",
            "f1-score : 0.48214019388516033\n"
          ]
        }
      ]
    },
    {
      "cell_type": "markdown",
      "source": [
        "소프트보팅"
      ],
      "metadata": {
        "id": "_X9xYzTwLeHi"
      }
    },
    {
      "cell_type": "code",
      "source": [
        "voting_clf2 = VotingClassifier(estimators=[('decision_tree',dt_clf),('knn',knn_clf),('svm',svm)],voting='soft')\n",
        "\n",
        "voting_clf2.fit(X_training , y_training)  \n",
        "\n",
        "softvoting_pred = voting_clf.predict(X_testing)"
      ],
      "metadata": {
        "colab": {
          "base_uri": "https://localhost:8080/"
        },
        "id": "K6-oexd-Lfs0",
        "outputId": "9b31e9ff-ea77-41c6-bc47-c00e64087789"
      },
      "execution_count": null,
      "outputs": [
        {
          "output_type": "stream",
          "name": "stderr",
          "text": [
            "/usr/local/lib/python3.10/dist-packages/sklearn/preprocessing/_label.py:99: DataConversionWarning: A column-vector y was passed when a 1d array was expected. Please change the shape of y to (n_samples, ), for example using ravel().\n",
            "  y = column_or_1d(y, warn=True)\n",
            "/usr/local/lib/python3.10/dist-packages/sklearn/preprocessing/_label.py:134: DataConversionWarning: A column-vector y was passed when a 1d array was expected. Please change the shape of y to (n_samples, ), for example using ravel().\n",
            "  y = column_or_1d(y, dtype=self.classes_.dtype, warn=True)\n"
          ]
        }
      ]
    },
    {
      "cell_type": "code",
      "source": [
        "print(\"소프트보팅\")\n",
        "eval_model(y_testing, softvoting_pred)"
      ],
      "metadata": {
        "id": "muEbheV4Lk3O",
        "outputId": "da130aed-f694-402a-c0b6-aa3c7e9d1e00",
        "colab": {
          "base_uri": "https://localhost:8080/"
        }
      },
      "execution_count": null,
      "outputs": [
        {
          "output_type": "stream",
          "name": "stdout",
          "text": [
            "소프트보팅\n",
            "accuracy : 0.8335373317013464, \n",
            "prescision : 0.7507192766132347\n",
            "recall : 0.5130199995731147, \n",
            "f1-score : 0.48214019388516033\n"
          ]
        }
      ]
    },
    {
      "cell_type": "markdown",
      "source": [
        "보팅 또한 앞에서 진행했던 bostonhousing dataset 보다 훨씬 좋은 성능지표 수치를 보여주고 있다."
      ],
      "metadata": {
        "id": "PTo0cBvOLlnX"
      }
    }
  ]
}